{
 "cells": [
  {
   "cell_type": "markdown",
   "metadata": {},
   "source": [
    "### Value at Risk (VaR) - Conditional Value at Risk (CVaR) - Bootstrapping\n",
    "\n",
    "This notebook shows how to compute the VaR and the CVaR on P/L data\n",
    "\n",
    "##### 1. VaR - CVaR"
   ]
  },
  {
   "cell_type": "code",
   "execution_count": 5,
   "metadata": {},
   "outputs": [],
   "source": [
    "import pandas as pd\n",
    "import matplotlib.pyplot as plt\n",
    "from scipy import stats\n",
    "import numpy as np\n",
    "import math"
   ]
  },
  {
   "cell_type": "markdown",
   "metadata": {},
   "source": [
    "Load timeseries from a CSV file:"
   ]
  },
  {
   "cell_type": "code",
   "execution_count": 8,
   "metadata": {},
   "outputs": [
    {
     "data": {
      "text/html": [
       "<div>\n",
       "<style scoped>\n",
       "    .dataframe tbody tr th:only-of-type {\n",
       "        vertical-align: middle;\n",
       "    }\n",
       "\n",
       "    .dataframe tbody tr th {\n",
       "        vertical-align: top;\n",
       "    }\n",
       "\n",
       "    .dataframe thead th {\n",
       "        text-align: right;\n",
       "    }\n",
       "</style>\n",
       "<table border=\"1\" class=\"dataframe\">\n",
       "  <thead>\n",
       "    <tr style=\"text-align: right;\">\n",
       "      <th></th>\n",
       "      <th>Date</th>\n",
       "      <th>Open</th>\n",
       "      <th>High</th>\n",
       "      <th>Low</th>\n",
       "      <th>Close</th>\n",
       "      <th>Adj Close</th>\n",
       "      <th>Volume</th>\n",
       "    </tr>\n",
       "  </thead>\n",
       "  <tbody>\n",
       "    <tr>\n",
       "      <th>0</th>\n",
       "      <td>2005-01-03</td>\n",
       "      <td>490.000000</td>\n",
       "      <td>490.000000</td>\n",
       "      <td>482.000000</td>\n",
       "      <td>482.700012</td>\n",
       "      <td>313.317932</td>\n",
       "      <td>1474660</td>\n",
       "    </tr>\n",
       "    <tr>\n",
       "      <th>1</th>\n",
       "      <td>2005-01-04</td>\n",
       "      <td>482.799988</td>\n",
       "      <td>487.700012</td>\n",
       "      <td>477.000000</td>\n",
       "      <td>478.600006</td>\n",
       "      <td>310.656616</td>\n",
       "      <td>1584770</td>\n",
       "    </tr>\n",
       "    <tr>\n",
       "      <th>2</th>\n",
       "      <td>2005-01-05</td>\n",
       "      <td>480.500000</td>\n",
       "      <td>487.799988</td>\n",
       "      <td>480.200012</td>\n",
       "      <td>484.600006</td>\n",
       "      <td>314.551300</td>\n",
       "      <td>1893350</td>\n",
       "    </tr>\n",
       "    <tr>\n",
       "      <th>3</th>\n",
       "      <td>2005-01-06</td>\n",
       "      <td>488.000000</td>\n",
       "      <td>492.399994</td>\n",
       "      <td>487.399994</td>\n",
       "      <td>489.299988</td>\n",
       "      <td>317.601929</td>\n",
       "      <td>1804990</td>\n",
       "    </tr>\n",
       "    <tr>\n",
       "      <th>4</th>\n",
       "      <td>2005-01-07</td>\n",
       "      <td>491.000000</td>\n",
       "      <td>491.100006</td>\n",
       "      <td>486.000000</td>\n",
       "      <td>486.500000</td>\n",
       "      <td>315.784424</td>\n",
       "      <td>1280370</td>\n",
       "    </tr>\n",
       "  </tbody>\n",
       "</table>\n",
       "</div>"
      ],
      "text/plain": [
       "         Date        Open        High         Low       Close   Adj Close  \\\n",
       "0  2005-01-03  490.000000  490.000000  482.000000  482.700012  313.317932   \n",
       "1  2005-01-04  482.799988  487.700012  477.000000  478.600006  310.656616   \n",
       "2  2005-01-05  480.500000  487.799988  480.200012  484.600006  314.551300   \n",
       "3  2005-01-06  488.000000  492.399994  487.399994  489.299988  317.601929   \n",
       "4  2005-01-07  491.000000  491.100006  486.000000  486.500000  315.784424   \n",
       "\n",
       "    Volume  \n",
       "0  1474660  \n",
       "1  1584770  \n",
       "2  1893350  \n",
       "3  1804990  \n",
       "4  1280370  "
      ]
     },
     "execution_count": 8,
     "metadata": {},
     "output_type": "execute_result"
    }
   ],
   "source": [
    "timeseries_df = pd.read_csv('data/citigroup.csv', sep = ',')\n",
    "timeseries_df.head()"
   ]
  },
  {
   "cell_type": "markdown",
   "metadata": {},
   "source": [
    "Extract close prices:"
   ]
  },
  {
   "cell_type": "code",
   "execution_count": 9,
   "metadata": {},
   "outputs": [
    {
     "data": {
      "text/plain": [
       "0    482.700012\n",
       "1    478.600006\n",
       "2    484.600006\n",
       "3    489.299988\n",
       "4    486.500000\n",
       "Name: Close, dtype: float64"
      ]
     },
     "execution_count": 9,
     "metadata": {},
     "output_type": "execute_result"
    }
   ],
   "source": [
    "close_prices_df = timeseries_df[\"Close\"]\n",
    "close_prices_df.head()"
   ]
  },
  {
   "cell_type": "markdown",
   "metadata": {},
   "source": [
    "Compute Daily P/L and remove 1st row (= NaN)"
   ]
  },
  {
   "cell_type": "code",
   "execution_count": 10,
   "metadata": {},
   "outputs": [
    {
     "data": {
      "text/plain": [
       "1   -4.100006\n",
       "2    6.000000\n",
       "3    4.699982\n",
       "4   -2.799988\n",
       "5   -3.100006\n",
       "Name: P/L, dtype: float64"
      ]
     },
     "execution_count": 10,
     "metadata": {},
     "output_type": "execute_result"
    }
   ],
   "source": [
    "profit_loss = close_prices_df.diff(1).iloc[1:].rename('P/L')\n",
    "profit_loss.head()"
   ]
  },
  {
   "cell_type": "markdown",
   "metadata": {},
   "source": [
    "Set the confidence level."
   ]
  },
  {
   "cell_type": "code",
   "execution_count": 11,
   "metadata": {},
   "outputs": [],
   "source": [
    "epsilon = 0.01"
   ]
  },
  {
   "cell_type": "markdown",
   "metadata": {},
   "source": [
    "Plot relative frequency histogram of the P/L data (and the corresponding normal distribution):"
   ]
  },
  {
   "cell_type": "code",
   "execution_count": 12,
   "metadata": {},
   "outputs": [
    {
     "name": "stdout",
     "output_type": "stream",
     "text": [
      "-0.41312128628230615 6.984884186713552\n"
     ]
    },
    {
     "data": {
      "image/png": "[encoded data removed]",
      "text/plain": [
       "<Figure size 640x480 with 1 Axes>"
      ]
     },
     "metadata": {},
     "output_type": "display_data"
    }
   ],
   "source": [
    "def plot_histo(data):\n",
    "    fig = plt.figure()\n",
    "    ax = fig.add_subplot(111)\n",
    "    ax.hist(data, bins=33, edgecolor='black', weights=np.ones_like(data) / len(data))\n",
    "\n",
    "    mu = np.mean(data)\n",
    "    sigma = np.std(data)\n",
    "    print(mu, sigma)\n",
    "    x = np.linspace(mu - 5*sigma, mu + 5*sigma, 100)\n",
    "    plt.plot(x, stats.norm.pdf(x, mu, sigma))\n",
    "\n",
    "    plt.show()\n",
    "\n",
    "plot_histo(profit_loss)"
   ]
  },
  {
   "cell_type": "markdown",
   "metadata": {},
   "source": [
    "Define the value_at_risk function.\n",
    "\n",
    "With sorted P/L vector, the VaR corresponds the 100*(1-epsilon) percentile.  \n",
    "Therefore the VaR is at index : `math.floor(epsilon * arr_size)`"
   ]
  },
  {
   "cell_type": "code",
   "execution_count": 13,
   "metadata": {},
   "outputs": [
    {
     "name": "stdout",
     "output_type": "stream",
     "text": [
      "Value at Risk = 20.8\n"
     ]
    }
   ],
   "source": [
    "def value_at_risk(pl_data, epsilon):\n",
    "    sorted_pl = sorted(pl_data)\n",
    "    arr_size = len(sorted_pl)\n",
    "    var_index = math.floor(epsilon * arr_size)\n",
    "    return -1.0 * sorted_pl[var_index]\n",
    "\n",
    "var = value_at_risk(profit_loss, epsilon)\n",
    "print('Value at Risk =', round(var, 2))"
   ]
  },
  {
   "cell_type": "markdown",
   "metadata": {},
   "source": [
    "Define the conditional_value_at_risk function.\n",
    "\n",
    "With sorted P/L vector, the CVaR is the expected value of the tail of the P/L data up to the VaR.  \n",
    "Therefore the CVaR is the mean value of the data with index from 0 to the VaR index."
   ]
  },
  {
   "cell_type": "code",
   "execution_count": 14,
   "metadata": {},
   "outputs": [
    {
     "name": "stdout",
     "output_type": "stream",
     "text": [
      "Conditional Value at Risk = -24.37\n"
     ]
    }
   ],
   "source": [
    "def conditional_value_at_risk(pl_data, epsilon):\n",
    "    sorted_pl = sorted(pl_data)\n",
    "    arr_size = len(sorted_pl)\n",
    "    var_index = math.floor(epsilon * arr_size) + 1\n",
    "    return float(np.mean(sorted_pl[1:var_index]))\n",
    "\n",
    "cvar = conditional_value_at_risk(profit_loss, epsilon)\n",
    "print('Conditional Value at Risk =', round(cvar, 2))"
   ]
  },
  {
   "cell_type": "markdown",
   "metadata": {},
   "source": [
    "##### 2. Bootstrapped Var & CVaR\n",
    "\n",
    "The bootstrapping method consists in randomly sampling from the P/L data, and computing the VaR and CVaR on the sample."
   ]
  },
  {
   "cell_type": "markdown",
   "metadata": {},
   "source": [
    "Random sample:"
   ]
  },
  {
   "cell_type": "code",
   "execution_count": 15,
   "metadata": {},
   "outputs": [
    {
     "data": {
      "text/plain": [
       "488    11.399994\n",
       "427     3.100006\n",
       "254     2.400024\n",
       "223     4.700012\n",
       "487    -0.699982\n",
       "Name: P/L, dtype: float64"
      ]
     },
     "execution_count": 15,
     "metadata": {},
     "output_type": "execute_result"
    }
   ],
   "source": [
    "nb_scenarios = 500\n",
    "random_indices = stats.randint.rvs(1, profit_loss.size, size = nb_scenarios)\n",
    "bootstrapped_data = profit_loss[random_indices]\n",
    "bootstrapped_data.head()"
   ]
  },
  {
   "cell_type": "markdown",
   "metadata": {},
   "source": [
    "Plot the bootstrapped data distribution:"
   ]
  },
  {
   "cell_type": "code",
   "execution_count": 16,
   "metadata": {},
   "outputs": [
    {
     "name": "stdout",
     "output_type": "stream",
     "text": [
      "-0.6017989339999987 7.229955335960613\n"
     ]
    },
    {
     "data": {
      "image/png": "[encoded data removed]",
      "text/plain": [
       "<Figure size 640x480 with 1 Axes>"
      ]
     },
     "metadata": {},
     "output_type": "display_data"
    }
   ],
   "source": [
    "plot_histo(bootstrapped_data)"
   ]
  },
  {
   "cell_type": "markdown",
   "metadata": {},
   "source": [
    "Compute the bootstrapped VaR:"
   ]
  },
  {
   "cell_type": "code",
   "execution_count": 19,
   "metadata": {},
   "outputs": [
    {
     "name": "stdout",
     "output_type": "stream",
     "text": [
      "Bootstrapped Value at Risk = 21.2\n"
     ]
    }
   ],
   "source": [
    "bootstrapped_var = value_at_risk(bootstrapped_data, epsilon)\n",
    "print('Bootstrapped Value at Risk =', round(bootstrapped_var, 2))"
   ]
  },
  {
   "cell_type": "markdown",
   "metadata": {},
   "source": [
    "Compute the bootstrapped CVaR:"
   ]
  },
  {
   "cell_type": "code",
   "execution_count": 20,
   "metadata": {},
   "outputs": [
    {
     "name": "stdout",
     "output_type": "stream",
     "text": [
      "Bootstrapped Conditional Value at Risk = -23.72\n"
     ]
    }
   ],
   "source": [
    "bootstrapped_cvar = conditional_value_at_risk(bootstrapped_data, epsilon)\n",
    "print('Bootstrapped Conditional Value at Risk =', round(bootstrapped_cvar, 2))"
   ]
  }
 ],
 "metadata": {
  "kernelspec": {
   "display_name": ".venv",
   "language": "python",
   "name": "python3"
  },
  "language_info": {
   "codemirror_mode": {
    "name": "ipython",
    "version": 3
   },
   "file_extension": ".py",
   "mimetype": "text/x-python",
   "name": "python",
   "nbconvert_exporter": "python",
   "pygments_lexer": "ipython3",
   "version": "3.11.2"
  }
 },
 "nbformat": 4,
 "nbformat_minor": 2
}
